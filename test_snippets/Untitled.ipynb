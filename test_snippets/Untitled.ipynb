{
 "cells": [
  {
   "cell_type": "code",
   "execution_count": 6,
   "id": "9cbe9c8e-63d8-4d61-beb5-14fb22b07bef",
   "metadata": {
    "tags": []
   },
   "outputs": [],
   "source": [
    "code=\"\"\"# this doesn't make sense as all lul\n",
    "import requests             # TROLOLOLOL\n",
    "\n",
    "headers = {\n",
    "    'Referer': 'https://www.transtats.bts.gov/DL_SelectFields.asp?Table_ID=236&DB_Short_Name=On-Time',\n",
    "    'Origin': 'https://www.transtats.bts.gov',\n",
    "    'Content-Type': 'application/x-www-form-urlencoded',\n",
    "}\n",
    "\n",
    "params = (\n",
    "    ('Table_ID', '236'),\n",
    "    ('Has_Group', '3'),    ('Is_Zipped',              '0'),\n",
    ")\n",
    "\n",
    "with open('modern-1-url.txt', encoding='utf-8') as f:\n",
    "    data = f.read().strip()\n",
    "\n",
    "os.makedirs('data',         exist_ok=True)\n",
    "\n",
    "\n",
    "import pandas as pd\n",
    "\n",
    "\n",
    "\n",
    "\n",
    "\n",
    "\n",
    "def read(fp):\n",
    "    df = (pd.read_csv(fp)\n",
    "            .rename(columns=str.lower)            .drop('unnamed: 36', axis=1)            .pipe(extract_city_name)            .pipe(time_to_datetime, ['dep_time', 'arr_time', 'crs_arr_time', 'crs_dep_time'])\n",
    "            .assign(fl_date=lambda x: pd.to_datetime(x['fl_date']),\n",
    "                    dest=lambda x: pd.Categorical(x['dest']),\n",
    "                    origin=lambda x: pd.Categorical(x['origin']),                    tail_num=lambda x: pd.Categorical(x['tail_num']),                    unique_carrier=lambda x: pd.Categorical(x['unique_carrier']),\n",
    "                    cancellation_code=lambda x: pd.Categorical(x['cancellation_code'])))\n",
    "    return df\n",
    "\n",
    "\n",
    "def extract_city_name(df:pd.DataFrame) ->          pd.DataFrame:\n",
    "    '''\n",
    "    Chicago, IL -> Chicago for origin_city_name and dest_city_name\n",
    "    '''\n",
    "    cols = ['origin_city_name', 'dest_city_name']\n",
    "    city = df[cols].apply(lambda x: x.str.extract(\"(.*), \\w{2}\", expand=False))\n",
    "    df = df.copy()\n",
    "    df[['origin_city_name', 'dest_city_name']] = city\n",
    "    return df\n",
    "\"\"\""
   ]
  },
  {
   "cell_type": "code",
   "execution_count": 7,
   "id": "91f7bb99-d703-451e-8714-012e7267298c",
   "metadata": {
    "tags": []
   },
   "outputs": [],
   "source": [
    "code_formatted = '''# this doesn't make sense as all lul\n",
    "import requests  # TROLOLOLOL\n",
    "\n",
    "headers = {\n",
    "    \"Referer\": \"https://www.transtats.bts.gov/DL_SelectFields.asp?Table_ID=236&DB_Short_Name=On-Time\",\n",
    "    \"Origin\": \"https://www.transtats.bts.gov\",\n",
    "    \"Content-Type\": \"application/x-www-form-urlencoded\",\n",
    "}\n",
    "\n",
    "params = (\n",
    "    (\"Table_ID\", \"236\"),\n",
    "    (\"Has_Group\", \"3\"),\n",
    "    (\"Is_Zipped\", \"0\"),\n",
    ")\n",
    "\n",
    "with open(\"modern-1-url.txt\", encoding=\"utf-8\") as f:\n",
    "    data = f.read().strip()\n",
    "\n",
    "os.makedirs(\"data\", exist_ok=True)\n",
    "\n",
    "\n",
    "import pandas as pd\n",
    "\n",
    "\n",
    "def read(fp):\n",
    "    df = (\n",
    "        pd.read_csv(fp)\n",
    "        .rename(columns=str.lower)\n",
    "        .drop(\"unnamed: 36\", axis=1)\n",
    "        .pipe(extract_city_name)\n",
    "        .pipe(\n",
    "            time_to_datetime, [\"dep_time\", \"arr_time\", \"crs_arr_time\", \"crs_dep_time\"]\n",
    "        )\n",
    "        .assign(\n",
    "            fl_date=lambda x: pd.to_datetime(x[\"fl_date\"]),\n",
    "            dest=lambda x: pd.Categorical(x[\"dest\"]),\n",
    "            origin=lambda x: pd.Categorical(x[\"origin\"]),\n",
    "            tail_num=lambda x: pd.Categorical(x[\"tail_num\"]),\n",
    "            unique_carrier=lambda x: pd.Categorical(x[\"unique_carrier\"]),\n",
    "            cancellation_code=lambda x: pd.Categorical(x[\"cancellation_code\"]),\n",
    "        )\n",
    "    )\n",
    "    return df\n",
    "\n",
    "\n",
    "def extract_city_name(df: pd.DataFrame) -> pd.DataFrame:\n",
    "    \"\"\"\n",
    "    Chicago, IL -> Chicago for origin_city_name and dest_city_name\n",
    "    \"\"\"\n",
    "    cols = [\"origin_city_name\", \"dest_city_name\"]\n",
    "    city = df[cols].apply(lambda x: x.str.extract(\"(.*), \\w{2}\", expand=False))\n",
    "    df = df.copy()\n",
    "    df[[\"origin_city_name\", \"dest_city_name\"]] = city\n",
    "    return df\n",
    "'''"
   ]
  },
  {
   "cell_type": "code",
   "execution_count": 8,
   "id": "8b222fdb-1382-42dd-b013-283ab4553332",
   "metadata": {
    "tags": []
   },
   "outputs": [],
   "source": [
    "import difflib"
   ]
  },
  {
   "cell_type": "code",
   "execution_count": 9,
   "id": "84996a33-3c2d-4a45-a286-10fbb5a2b51c",
   "metadata": {
    "tags": []
   },
   "outputs": [],
   "source": [
    "original = 815\n",
    "new = 794"
   ]
  },
  {
   "cell_type": "code",
   "execution_count": 10,
   "id": "7343ed9e-94a9-4cc5-b4d6-857c86d98679",
   "metadata": {
    "tags": []
   },
   "outputs": [
    {
     "data": {
      "text/plain": [
       "'assign(fl_'"
      ]
     },
     "execution_count": 10,
     "metadata": {},
     "output_type": "execute_result"
    }
   ],
   "source": [
    "code[original: original+ 10]"
   ]
  },
  {
   "cell_type": "code",
   "execution_count": 17,
   "id": "e43c4954-900b-4887-a967-a0d354bf35c1",
   "metadata": {
    "tags": []
   },
   "outputs": [
    {
     "data": {
      "text/plain": [
       "'assign(\\n  '"
      ]
     },
     "execution_count": 17,
     "metadata": {},
     "output_type": "execute_result"
    }
   ],
   "source": [
    "code_formatted[new:new+10]"
   ]
  },
  {
   "cell_type": "code",
   "execution_count": 18,
   "id": "a01b2234-98ff-471d-87f7-8426eacb7a60",
   "metadata": {
    "tags": []
   },
   "outputs": [],
   "source": [
    "sm = difflib.SequenceMatcher()"
   ]
  },
  {
   "cell_type": "code",
   "execution_count": 19,
   "id": "f099635c-6c7b-470e-8b3a-58aa796787dd",
   "metadata": {
    "tags": []
   },
   "outputs": [],
   "source": [
    "sm.set_seqs(code_formatted,code)"
   ]
  },
  {
   "cell_type": "code",
   "execution_count": 20,
   "id": "9c1b994a-be94-488c-a449-de65f426bd46",
   "metadata": {
    "tags": []
   },
   "outputs": [],
   "source": [
    "import bisect"
   ]
  },
  {
   "cell_type": "code",
   "execution_count": 21,
   "id": "3f6455b5-646c-4342-bd74-360ddbcda9a7",
   "metadata": {
    "tags": []
   },
   "outputs": [],
   "source": [
    "original_pos = 815"
   ]
  },
  {
   "cell_type": "code",
   "execution_count": 28,
   "id": "3b180dc5-c5db-4eac-8b6d-8af17ceb1d3c",
   "metadata": {
    "tags": []
   },
   "outputs": [],
   "source": [
    "matches = [\n",
    "    (block.b, block.a, block.size)\n",
    "    for block in sm.get_matching_blocks()\n",
    "]"
   ]
  },
  {
   "cell_type": "code",
   "execution_count": 29,
   "id": "47c3eadb-9420-47fc-92f9-1d17695fa1bb",
   "metadata": {
    "tags": []
   },
   "outputs": [],
   "source": [
    "insert_index = bisect.bisect_left(matches, (original_pos,))"
   ]
  },
  {
   "cell_type": "code",
   "execution_count": 32,
   "id": "e7a0698e-71b6-4f11-a4ee-543dd7b623b8",
   "metadata": {
    "tags": []
   },
   "outputs": [
    {
     "data": {
      "text/plain": [
       "'fl_date=lambda x: pd.to_datetime(x['"
      ]
     },
     "execution_count": 32,
     "metadata": {},
     "output_type": "execute_result"
    }
   ],
   "source": [
    "code[822:822+35]"
   ]
  },
  {
   "cell_type": "code",
   "execution_count": 38,
   "id": "77619740-ee3e-4527-860b-3ab08337231c",
   "metadata": {
    "tags": []
   },
   "outputs": [
    {
     "data": {
      "text/plain": [
       "'        .assign('"
      ]
     },
     "execution_count": 38,
     "metadata": {},
     "output_type": "execute_result"
    }
   ],
   "source": [
    "code[806: 806+16]"
   ]
  },
  {
   "cell_type": "code",
   "execution_count": 49,
   "id": "739f53f9-18fa-425e-8fb9-f9f8fc1be3f1",
   "metadata": {
    "tags": []
   },
   "outputs": [],
   "source": [
    "min_abs_diff = len(code_formatted)\n",
    "new_position = 0\n",
    "\n",
    "for offset in [-2, -1, 0, 1]:\n",
    "    match = matches[insert_index + offset]\n",
    "    new_diff = min(abs(match[0] + match[2] - original_pos - 1), abs(match[0] - original_pos))\n",
    "    new_abs_diff = abs(new_diff)\n",
    "    if min_abs_diff > new_abs_diff:\n",
    "        min_abs_diff = new_abs_diff\n",
    "        new_position = match[1] + new_diff\n",
    "        \n",
    "        \n",
    "        "
   ]
  },
  {
   "cell_type": "code",
   "execution_count": 50,
   "id": "d9d226d9-e0f9-498e-aef1-a383209060c4",
   "metadata": {
    "tags": []
   },
   "outputs": [
    {
     "data": {
      "text/plain": [
       "791"
      ]
     },
     "execution_count": 50,
     "metadata": {},
     "output_type": "execute_result"
    }
   ],
   "source": [
    "new_position"
   ]
  },
  {
   "cell_type": "code",
   "execution_count": 58,
   "id": "5aa0c441-9fa8-41f4-9890-ff71146e9b47",
   "metadata": {
    "tags": []
   },
   "outputs": [
    {
     "data": {
      "text/plain": [
       "821"
      ]
     },
     "execution_count": 58,
     "metadata": {},
     "output_type": "execute_result"
    }
   ],
   "source": [
    "new_position"
   ]
  },
  {
   "cell_type": "code",
   "execution_count": 45,
   "id": "010db981-4d7d-4cc4-991c-df4864bfbb29",
   "metadata": {
    "tags": []
   },
   "outputs": [
    {
     "data": {
      "text/plain": [
       "821"
      ]
     },
     "execution_count": 45,
     "metadata": {},
     "output_type": "execute_result"
    }
   ],
   "source": [
    "new_position"
   ]
  },
  {
   "cell_type": "code",
   "execution_count": null,
   "id": "17064f6f-0ca7-49da-92b5-58fea62054d4",
   "metadata": {},
   "outputs": [],
   "source": []
  },
  {
   "cell_type": "code",
   "execution_count": 36,
   "id": "215eeb30-bbc4-43dd-b474-5af379c84797",
   "metadata": {
    "tags": []
   },
   "outputs": [
    {
     "data": {
      "text/plain": [
       "(822, 814, 35)"
      ]
     },
     "execution_count": 36,
     "metadata": {},
     "output_type": "execute_result"
    }
   ],
   "source": [
    "matches[33]"
   ]
  },
  {
   "cell_type": "code",
   "execution_count": 69,
   "id": "02142a22-37da-48d3-8c19-ed696010e65d",
   "metadata": {
    "tags": []
   },
   "outputs": [
    {
     "data": {
      "text/plain": [
       "'fl_date='"
      ]
     },
     "execution_count": 69,
     "metadata": {},
     "output_type": "execute_result"
    }
   ],
   "source": [
    "code[822:830]"
   ]
  },
  {
   "cell_type": "code",
   "execution_count": 51,
   "id": "dd7f5ba2-9fe6-4502-b922-fab55e65c2f5",
   "metadata": {
    "tags": []
   },
   "outputs": [],
   "source": []
  },
  {
   "cell_type": "code",
   "execution_count": 67,
   "id": "7305aabe-6622-4166-b99e-51dd2fc501e3",
   "metadata": {
    "tags": []
   },
   "outputs": [
    {
     "data": {
      "text/plain": [
       "'.assig'"
      ]
     },
     "execution_count": 67,
     "metadata": {},
     "output_type": "execute_result"
    }
   ],
   "source": [
    "code[814:820]"
   ]
  },
  {
   "cell_type": "code",
   "execution_count": 65,
   "id": "d1f4d004-1574-4109-b9df-adbe45990105",
   "metadata": {
    "tags": []
   },
   "outputs": [
    {
     "data": {
      "text/plain": [
       "'(\\n            fl_dat'"
      ]
     },
     "execution_count": 65,
     "metadata": {},
     "output_type": "execute_result"
    }
   ],
   "source": [
    "code_formatted[800:820]"
   ]
  },
  {
   "cell_type": "code",
   "execution_count": 34,
   "id": "7f44be68-d7fe-40c1-99c4-111dab570e22",
   "metadata": {
    "tags": []
   },
   "outputs": [
    {
     "name": "stdout",
     "output_type": "stream",
     "text": [
      "# this doesn't make sense as all lul\n",
      "import requests 0 52\n",
      "---\n",
      "  # TROLOLOLOL\n",
      "\n",
      "headers = {\n",
      "     52 32\n",
      "---\n",
      "Referer 85 7\n",
      "---\n",
      ":  93 2\n",
      "---\n",
      "https://www.transtats.bts.gov/DL_SelectFields.asp?Table_ID=236&DB_Short_Name=On-Time 96 84\n",
      "---\n",
      "Origin 188 6\n",
      "---\n",
      ":  195 2\n",
      "---\n",
      "https://www.transtats.bts.gov 198 29\n",
      "---\n",
      "Content-Type 235 12\n",
      "---\n",
      ":  248 2\n",
      "---\n",
      "application/x-www-form-urlencoded 251 33\n",
      "---\n",
      ",\n",
      "}\n",
      "\n",
      "params = (\n",
      "    ( 285 21\n",
      "---\n",
      "Table_ID 307 8\n",
      "---\n",
      "236 319 3\n",
      "---\n",
      "Has_Group 332 9\n",
      "---\n",
      "3 345 1\n",
      "---\n",
      "Is_Zipped 356 9\n",
      "---\n",
      "0 369 1\n",
      "---\n",
      "),\n",
      ")\n",
      "\n",
      "with open( 371 16\n",
      "---\n",
      "modern-1-url.txt 388 16\n",
      "---\n",
      ", encoding= 405 11\n",
      "---\n",
      "utf-8 417 5\n",
      "---\n",
      ") as f:\n",
      "    data = f.read().strip()\n",
      "\n",
      "os.makedirs( 423 49\n",
      "---\n",
      " exist_ok=True)\n",
      "\n",
      "\n",
      "import pandas as pd\n",
      "\n",
      "\n",
      " 479 40\n",
      "---\n",
      "def read(fp):\n",
      "    df = ( 519 24\n",
      "---\n",
      "pd.read_csv(fp)\n",
      "         552 24\n",
      "---\n",
      ".rename(columns=str.lower) 576 26\n",
      "---\n",
      "unnamed: 36 618 11\n",
      "---\n",
      ", axis=1) 630 9\n",
      "---\n",
      "        .pipe(extract_city_name) 640 32\n",
      "---\n",
      "time_to_datetime, [ 700 19\n",
      "---\n",
      "] 773 1\n",
      "---\n",
      "        .assign( 785 16\n",
      "---\n",
      "fl_date=lambda x: pd.to_datetime(x[ 814 35\n",
      "---\n",
      "]),\n",
      "             858 16\n",
      "---\n",
      "dest=lambda x: pd.Categorical(x[ 874 32\n",
      "---\n",
      "]),\n",
      "             912 16\n",
      "---\n",
      "origin=lambda x: pd.Categorical(x[ 928 34\n",
      "---\n",
      "origin 963 6\n",
      "---\n",
      "]), 970 3\n",
      "---\n",
      "            tail_num=lambda x: pd.Categorical(x[ 974 48\n",
      "---\n",
      "tail_num 1023 8\n",
      "---\n",
      "]), 1032 3\n",
      "---\n",
      "            unique_carrier=lambda x: pd.Categorical(x[ 1036 54\n",
      "---\n",
      "unique_carrier 1091 14\n",
      "---\n",
      "]),\n",
      "             1106 16\n",
      "---\n",
      "cancellation_code=lambda x: pd.Categorical(x[ 1122 45\n",
      "---\n",
      "]) 1186 2\n",
      "---\n",
      ")\n",
      "    return df\n",
      "\n",
      "\n",
      "def extract_city_name(df: 1204 43\n",
      "---\n",
      "pd.DataFrame) ->  1248 17\n",
      "---\n",
      "pd.DataFrame:\n",
      "     1265 18\n",
      "---\n",
      "\n",
      "    Chicago, IL -> Chicago for origin_city_name and dest_city_name\n",
      "     1286 72\n",
      "---\n",
      "\n",
      "    cols = [ 1361 13\n",
      "---\n",
      "origin_city_name 1375 16\n",
      "---\n",
      "dest_city_name 1395 14\n",
      "---\n",
      "]\n",
      "    city = df[cols].apply(lambda x: x.str.extract(\"(.*), \\w{2}\", expand=False))\n",
      "    df = df.copy()\n",
      "    df[[ 1410 109\n",
      "---\n",
      "origin_city_name 1520 16\n",
      "---\n",
      "dest_city_name 1540 14\n",
      "---\n",
      "]] = city\n",
      "    return df\n",
      " 1555 24\n",
      "---\n",
      " 1579 0\n",
      "---\n"
     ]
    }
   ],
   "source": [
    "for block in sm.get_matching_blocks():\n",
    "    print(code_formatted[block.a:block.a+block.size], block.a, block.size)\n",
    "    print('---')"
   ]
  },
  {
   "cell_type": "code",
   "execution_count": 9,
   "id": "14d3591f-ac9a-4073-bd10-3358f0949077",
   "metadata": {
    "tags": []
   },
   "outputs": [
    {
     "data": {
      "text/plain": [
       "[Match(a=0, b=0, size=52),\n",
       " Match(a=63, b=52, size=32),\n",
       " Match(a=96, b=85, size=7),\n",
       " Match(a=107, b=96, size=84),\n",
       " Match(a=199, b=188, size=6),\n",
       " Match(a=209, b=198, size=29),\n",
       " Match(a=246, b=235, size=12),\n",
       " Match(a=262, b=251, size=33),\n",
       " Match(a=296, b=285, size=21),\n",
       " Match(a=318, b=307, size=8),\n",
       " Match(a=330, b=319, size=3),\n",
       " Match(a=343, b=332, size=9),\n",
       " Match(a=356, b=345, size=1),\n",
       " Match(a=366, b=356, size=9),\n",
       " Match(a=392, b=369, size=1),\n",
       " Match(a=394, b=371, size=16),\n",
       " Match(a=411, b=388, size=16),\n",
       " Match(a=440, b=417, size=5),\n",
       " Match(a=446, b=423, size=49),\n",
       " Match(a=510, b=479, size=40),\n",
       " Match(a=578, b=552, size=24),\n",
       " Match(a=606, b=576, size=26),\n",
       " Match(a=651, b=618, size=11),\n",
       " Match(a=663, b=630, size=9),\n",
       " Match(a=676, b=640, size=32),\n",
       " Match(a=726, b=700, size=19),\n",
       " Match(a=799, b=773, size=1),\n",
       " Match(a=822, b=814, size=35),\n",
       " Match(a=866, b=858, size=16),\n",
       " Match(a=890, b=874, size=32),\n",
       " Match(a=928, b=912, size=16),\n",
       " Match(a=952, b=928, size=34),\n",
       " Match(a=994, b=970, size=3),\n",
       " Match(a=1005, b=974, size=48),\n",
       " Match(a=1063, b=1032, size=3),\n",
       " Match(a=1074, b=1036, size=54),\n",
       " Match(a=1129, b=1091, size=14),\n",
       " Match(a=1144, b=1106, size=16),\n",
       " Match(a=1168, b=1122, size=45),\n",
       " Match(a=1232, b=1186, size=2),\n",
       " Match(a=1235, b=1204, size=43),\n",
       " Match(a=1278, b=1248, size=17),\n",
       " Match(a=1304, b=1265, size=18),\n",
       " Match(a=1325, b=1286, size=72),\n",
       " Match(a=1400, b=1361, size=13),\n",
       " Match(a=1414, b=1375, size=16),\n",
       " Match(a=1434, b=1395, size=14),\n",
       " Match(a=1449, b=1410, size=109),\n",
       " Match(a=1559, b=1520, size=16),\n",
       " Match(a=1579, b=1540, size=14),\n",
       " Match(a=1594, b=1555, size=23),\n",
       " Match(a=1618, b=1578, size=0)]"
      ]
     },
     "execution_count": 9,
     "metadata": {},
     "output_type": "execute_result"
    }
   ],
   "source": []
  },
  {
   "cell_type": "code",
   "execution_count": null,
   "id": "49b56f9c-56da-43b9-9739-a2a7f73eb263",
   "metadata": {},
   "outputs": [],
   "source": [
    "code"
   ]
  }
 ],
 "metadata": {
  "kernelspec": {
   "display_name": "Python 3 (ipykernel)",
   "language": "python",
   "name": "python3"
  },
  "language_info": {
   "codemirror_mode": {
    "name": "ipython",
    "version": 3
   },
   "file_extension": ".py",
   "mimetype": "text/x-python",
   "name": "python",
   "nbconvert_exporter": "python",
   "pygments_lexer": "ipython3",
   "version": "3.9.12"
  }
 },
 "nbformat": 4,
 "nbformat_minor": 5
}
